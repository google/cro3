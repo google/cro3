{
 "cells": [
  {
   "cell_type": "code",
   "execution_count": 1,
   "metadata": {},
   "outputs": [],
   "source": [
    "import numpy as np\n",
    "import pandas as pd\n",
    "from sklearn.linear_model import LinearRegression\n",
    "import seaborn as sns\n",
    "import matplotlib.pyplot as plt\n",
    "%matplotlib inline\n",
    "from sklearn.metrics import mean_squared_error, r2_score\n",
    "from sklearn.model_selection import train_test_split\n",
    "\n",
    "\n",
    "def irRemoval(xf):\n",
    "    xf['IR'] = 0.41*(xf['R']*0.61 + xf['G'] + xf['B']*1.6 - 0.98 * xf['C'])/2\n",
    "    #replace negative values in IR with 0\n",
    "    num = xf['IR']._get_numeric_data()\n",
    "    num[num < 0] = 0\n",
    "    xf['RC'] = xf['R']*0.61 - xf['IR']\n",
    "    xf['GC'] = xf['G'] - xf['IR']\n",
    "    xf['BC'] = xf['B']*1.6 - xf['IR']\n",
    "    xf['CC'] = xf['C']*0.98 - xf['IR']\n",
    "    xf = removeNegative(xf)\n",
    "    xf.loc[xf.RC == 0, 'BC'] = 0\n",
    "  \n",
    "    \n",
    "    return xf\n",
    "\n",
    "\n",
    "def removeNegative(xn):\n",
    "    xn = pd.DataFrame(xn)\n",
    "    num = xn._get_numeric_data()\n",
    "    num[num < 0] = 0\n",
    "    return xn\n",
    "\n",
    "\n",
    "def fit(xfit, meter):    \n",
    "    reg = LinearRegression().fit(xfit[['RC', 'GC', 'BC','CC']], xfit[meter] )\n",
    "    score= reg.score(xfit[['RC','GC','BC','CC']], xfit[meter])\n",
    "    coeff = reg.coef_\n",
    "    off = reg.intercept_\n",
    "    return reg,score,coeff,off\n",
    "\n",
    "\n",
    "def predict(reg, xpre, meter):\n",
    "    y = reg.predict(xpre[['RC', 'GC', 'BC','CC']])\n",
    "    MSE = mean_squared_error(xpre[meter], y)\n",
    "    Var = r2_score(xpre[meter], y)\n",
    "    y = [0 if x < 2 else x for x in y]\n",
    "    return y, MSE, Var\n",
    "\n",
    "\n",
    "def errorfun(xe, xfitted, meter): \n",
    "    x3 =  (xe[meter] - xfitted)/xfitted\n",
    "#     x3 = [0 if x != -1 else x for x in x3]\n",
    "    x3[x3 == -1 ] = 0\n",
    "    return x3\n",
    "\n",
    "\n",
    "#here is the XYZ to Lux and CCT calculation\n",
    "def CCT(xcct,offX,offY,offZ,coeffX,coeffY,coeffZ):    \n",
    "    X = offX + xcct['RC'] * coeffX[0] + xcct['GC'] \\\n",
    "    * coeffX[1] + xcct['BC'] * coeffX[2] + xcct['CC'] * coeffX[3]\n",
    "    X =[0 if x < 2 else x for x in X]\n",
    "    X = np.array(X)\n",
    "\n",
    "    Y = offY + xcct['RC'] * coeffY[0] + xcct['GC'] \\\n",
    "    * coeffY[1] + xcct['BC'] * coeffY[2] + xcct['CC'] * coeffY[3]\n",
    "    \n",
    "    Y = [0 if x < 2 else x for x in Y]\n",
    "    Y =np.array(Y)\n",
    "\n",
    "    Z = offZ + xcct['RC'] * coeffZ[0] + xcct['GC'] \\\n",
    "    * coeffZ[1] + xcct['BC'] * coeffZ[2] + xcct['CC'] * coeffZ[3]\n",
    "    Z = [0 if x < 2 else x for x in Z]\n",
    "    Z = np.array(Z)\n",
    "    sum = X + Y + Z\n",
    "    x = X / sum\n",
    "    y = Y / sum\n",
    "    n = (x - 0.3320)/(0.1858 - y)\n",
    "    CCT = 449.0 * n**3 + 3525.0 * n**2 + 6823.3 * n + 5520.33\n",
    "#     CCT = 437 * n**3 + 3601 * n**2 + 6861 * n + 5517\n",
    "    error = (CCT - xcct['MeterCCT'])/xcct['MeterCCT']\n",
    "    \n",
    "    return CCT, error, X, Y, Z\n",
    "\n",
    "\n",
    "\n",
    "def CCTPredict(xcctpre, X, Y, Z):\n",
    "    X = np.array(X)\n",
    "    Y = np.array(Y)\n",
    "    Z = np.array(Z)\n",
    "    sum = X + Y + Z\n",
    "    x = X/sum\n",
    "    y = Y/sum\n",
    "    n = (x - 0.3320)/(0.1858 - y)\n",
    "    CCT = 449.0 * n**3 + 3525.0 * n**2 + 6823.3 * n + 5520.33\n",
    "#     CCT = 437 * n**3 + 3601 * n**2 + 6861 * n + 5517\n",
    "    error = (CCT - xcctpre['MeterCCT'])/xcctpre['MeterCCT']\n",
    "    \n",
    "    \n",
    "    return CCT, error\n",
    "\n",
    "    \n",
    "def traintestslipt(xf):\n",
    "    train, test = train_test_split(xf, test_size=0.1)\n",
    "    return train, test\n",
    "    \n",
    "\n",
    "\n",
    "#by book method for CCT calculation\n",
    "# def CCTBook(xcctbook):\n",
    "#     X = xcctbook['RC'] * -0.14282 + xcctbook['GC'] *1.54924 * xcctbook['BC']*-0.95641\n",
    "#     Y = xcctbook['RC'] * -0.32466 + xcctbook['GC'] *1.57837 * xcctbook['BC']*-0.73191\n",
    "#     Z = xcctbook['RC'] * -0.68202 + xcctbook['GC'] *0.77073 * xcctbook['BC']*0.56332\n",
    "#     x = X / (X + Y + Z)\n",
    "#     y = Y / (X + Y + Z)\n",
    "#     n = (x - 0.3320)/(0.1858 - y)\n",
    "#     CCT = 437.0 * n**3 + 3601.0 * n**2 + 6861.0 * n + 5517.0\n",
    "#     error = (CCT - xcctbook['MeterCCT'])/xcctbook['MeterCCT']\n",
    "#     return CCT, error\n"
   ]
  },
  {
   "cell_type": "code",
   "execution_count": 51,
   "metadata": {},
   "outputs": [
    {
     "name": "stderr",
     "output_type": "stream",
     "text": [
      "C:\\Users\\afliu\\anaconda3\\lib\\site-packages\\ipykernel_launcher.py:12: SettingWithCopyWarning: \n",
      "A value is trying to be set on a copy of a slice from a DataFrame.\n",
      "Try using .loc[row_indexer,col_indexer] = value instead\n",
      "\n",
      "See the caveats in the documentation: https://pandas.pydata.org/pandas-docs/stable/user_guide/indexing.html#returning-a-view-versus-a-copy\n",
      "  if sys.path[0] == '':\n",
      "C:\\Users\\afliu\\anaconda3\\lib\\site-packages\\ipykernel_launcher.py:16: SettingWithCopyWarning: \n",
      "A value is trying to be set on a copy of a slice from a DataFrame.\n",
      "Try using .loc[row_indexer,col_indexer] = value instead\n",
      "\n",
      "See the caveats in the documentation: https://pandas.pydata.org/pandas-docs/stable/user_guide/indexing.html#returning-a-view-versus-a-copy\n",
      "  app.launch_new_instance()\n",
      "C:\\Users\\afliu\\anaconda3\\lib\\site-packages\\ipykernel_launcher.py:17: SettingWithCopyWarning: \n",
      "A value is trying to be set on a copy of a slice from a DataFrame.\n",
      "Try using .loc[row_indexer,col_indexer] = value instead\n",
      "\n",
      "See the caveats in the documentation: https://pandas.pydata.org/pandas-docs/stable/user_guide/indexing.html#returning-a-view-versus-a-copy\n",
      "C:\\Users\\afliu\\anaconda3\\lib\\site-packages\\ipykernel_launcher.py:18: SettingWithCopyWarning: \n",
      "A value is trying to be set on a copy of a slice from a DataFrame.\n",
      "Try using .loc[row_indexer,col_indexer] = value instead\n",
      "\n",
      "See the caveats in the documentation: https://pandas.pydata.org/pandas-docs/stable/user_guide/indexing.html#returning-a-view-versus-a-copy\n",
      "C:\\Users\\afliu\\anaconda3\\lib\\site-packages\\ipykernel_launcher.py:19: SettingWithCopyWarning: \n",
      "A value is trying to be set on a copy of a slice from a DataFrame.\n",
      "Try using .loc[row_indexer,col_indexer] = value instead\n",
      "\n",
      "See the caveats in the documentation: https://pandas.pydata.org/pandas-docs/stable/user_guide/indexing.html#returning-a-view-versus-a-copy\n"
     ]
    }
   ],
   "source": [
    "############\n",
    "if __name__ == \"__main__\":\n",
    "    dataRaw = pd.read_excel('redrixEVT.xlsx')\n",
    "    data, dataTest = traintestslipt(dataRaw)\n",
    "    datanoIR = irRemoval(data)\n",
    "    dataTestnoIR = irRemoval(dataTest)   \n",
    "       \n",
    "    regX,scoreX,coeffX,offX = fit(datanoIR, 'MeterX')\n",
    "    regY,scoreY,coeffY,offY = fit(datanoIR, 'MeterY')\n",
    "    regZ,scoreZ,coeffZ,offZ = fit(datanoIR, 'MeterZ')\n",
    "\n",
    "    Xpredict,MSEX,VarX = predict(regX,dataTestnoIR, 'MeterX')\n",
    "\n",
    "    Ypredict,MSEY,VarY = predict(regY,dataTestnoIR, 'MeterY')\n",
    "\n",
    "    Zpredict,MSEZ,VarZ = predict(regZ,dataTestnoIR, 'MeterZ')    \n",
    "    \n",
    "    errorX = errorfun(dataTestnoIR, Xpredict, 'MeterX')\n",
    "    errorY = errorfun(dataTestnoIR, Ypredict, 'MeterY')\n",
    "    errorZ = errorfun(dataTestnoIR, Zpredict, 'MeterZ')      \n",
    "    \n",
    "#     CCTfit, errorfit = CCT(dataTestnoIR, offX, offY, offZ, coeffX, coeffY, coeffZ)\n",
    "   \n",
    "    CCTpredict, errorpredict = CCTPredict(dataTestnoIR, Xpredict, \n",
    "                                          Ypredict, Zpredict)\n",
    "#     dataVal = pd.read_excel('C18TestDataALS95210JDBU0G02S.xlsx')\n",
    "#     dataValnoIR = irRemoval(dataVal)\n",
    "#     CCTfit, errorfit, Y = CCT(dataValnoIR, offX, offY, offZ, coeffX, coeffY, coeffZ)\n",
    "    \n",
    "   "
   ]
  },
  {
   "cell_type": "code",
   "execution_count": 52,
   "metadata": {},
   "outputs": [
    {
     "data": {
      "text/html": [
       "<div>\n",
       "<style scoped>\n",
       "    .dataframe tbody tr th:only-of-type {\n",
       "        vertical-align: middle;\n",
       "    }\n",
       "\n",
       "    .dataframe tbody tr th {\n",
       "        vertical-align: top;\n",
       "    }\n",
       "\n",
       "    .dataframe thead th {\n",
       "        text-align: right;\n",
       "    }\n",
       "</style>\n",
       "<table border=\"1\" class=\"dataframe\">\n",
       "  <thead>\n",
       "    <tr style=\"text-align: right;\">\n",
       "      <th></th>\n",
       "      <th>Computer</th>\n",
       "      <th>Lamp</th>\n",
       "      <th>LM_Lux</th>\n",
       "      <th>ATIME Cycle</th>\n",
       "      <th>ATIME</th>\n",
       "      <th>AGAIN</th>\n",
       "      <th>CR</th>\n",
       "      <th>RR</th>\n",
       "      <th>GR</th>\n",
       "      <th>BR</th>\n",
       "      <th>...</th>\n",
       "      <th>MeterX</th>\n",
       "      <th>MeterY</th>\n",
       "      <th>MeterZ</th>\n",
       "      <th>Meterlux</th>\n",
       "      <th>MeterCCT</th>\n",
       "      <th>IR</th>\n",
       "      <th>RC</th>\n",
       "      <th>GC</th>\n",
       "      <th>BC</th>\n",
       "      <th>CC</th>\n",
       "    </tr>\n",
       "  </thead>\n",
       "  <tbody>\n",
       "    <tr>\n",
       "      <th>1</th>\n",
       "      <td>TPK_#1</td>\n",
       "      <td>D40</td>\n",
       "      <td>761.9</td>\n",
       "      <td>107.805755</td>\n",
       "      <td>299.7</td>\n",
       "      <td>16</td>\n",
       "      <td>3327.836364</td>\n",
       "      <td>2004.036364</td>\n",
       "      <td>798.981818</td>\n",
       "      <td>655.000000</td>\n",
       "      <td>...</td>\n",
       "      <td>765.9</td>\n",
       "      <td>761.9</td>\n",
       "      <td>492.9</td>\n",
       "      <td>761.9</td>\n",
       "      <td>4041</td>\n",
       "      <td>0.0</td>\n",
       "      <td>2904.214459</td>\n",
       "      <td>1898.148330</td>\n",
       "      <td>2489.743076</td>\n",
       "      <td>7747.851522</td>\n",
       "    </tr>\n",
       "    <tr>\n",
       "      <th>3</th>\n",
       "      <td>TPK_#1</td>\n",
       "      <td>TL84</td>\n",
       "      <td>1362.0</td>\n",
       "      <td>107.805755</td>\n",
       "      <td>299.7</td>\n",
       "      <td>16</td>\n",
       "      <td>3159.914286</td>\n",
       "      <td>1664.885714</td>\n",
       "      <td>925.057143</td>\n",
       "      <td>536.171429</td>\n",
       "      <td>...</td>\n",
       "      <td>1372.0</td>\n",
       "      <td>1362.0</td>\n",
       "      <td>762.0</td>\n",
       "      <td>1362.0</td>\n",
       "      <td>3792</td>\n",
       "      <td>0.0</td>\n",
       "      <td>2412.723268</td>\n",
       "      <td>2197.666619</td>\n",
       "      <td>2038.059698</td>\n",
       "      <td>7356.896203</td>\n",
       "    </tr>\n",
       "    <tr>\n",
       "      <th>47</th>\n",
       "      <td>HH_#2</td>\n",
       "      <td>SP03</td>\n",
       "      <td>3464.0</td>\n",
       "      <td>107.805755</td>\n",
       "      <td>299.7</td>\n",
       "      <td>4</td>\n",
       "      <td>3022.520000</td>\n",
       "      <td>1709.740000</td>\n",
       "      <td>813.680000</td>\n",
       "      <td>522.400000</td>\n",
       "      <td>...</td>\n",
       "      <td>3456.0</td>\n",
       "      <td>3464.0</td>\n",
       "      <td>1849.0</td>\n",
       "      <td>3464.0</td>\n",
       "      <td>3789</td>\n",
       "      <td>0.0</td>\n",
       "      <td>9910.901259</td>\n",
       "      <td>7732.267734</td>\n",
       "      <td>7942.850584</td>\n",
       "      <td>28148.062131</td>\n",
       "    </tr>\n",
       "    <tr>\n",
       "      <th>19</th>\n",
       "      <td>HH_#1</td>\n",
       "      <td>TL84</td>\n",
       "      <td>1372.0</td>\n",
       "      <td>107.805755</td>\n",
       "      <td>299.7</td>\n",
       "      <td>4</td>\n",
       "      <td>1035.520000</td>\n",
       "      <td>545.040000</td>\n",
       "      <td>322.260000</td>\n",
       "      <td>194.000000</td>\n",
       "      <td>...</td>\n",
       "      <td>1380.0</td>\n",
       "      <td>1372.0</td>\n",
       "      <td>754.0</td>\n",
       "      <td>1372.0</td>\n",
       "      <td>3775</td>\n",
       "      <td>0.0</td>\n",
       "      <td>3159.449754</td>\n",
       "      <td>3062.383984</td>\n",
       "      <td>2949.680347</td>\n",
       "      <td>9643.569372</td>\n",
       "    </tr>\n",
       "    <tr>\n",
       "      <th>41</th>\n",
       "      <td>HH_#2</td>\n",
       "      <td>CWF</td>\n",
       "      <td>1176.0</td>\n",
       "      <td>107.805755</td>\n",
       "      <td>299.7</td>\n",
       "      <td>16</td>\n",
       "      <td>3933.320000</td>\n",
       "      <td>2347.220000</td>\n",
       "      <td>1032.880000</td>\n",
       "      <td>557.200000</td>\n",
       "      <td>...</td>\n",
       "      <td>1279.0</td>\n",
       "      <td>1176.0</td>\n",
       "      <td>420.0</td>\n",
       "      <td>1176.0</td>\n",
       "      <td>2912</td>\n",
       "      <td>0.0</td>\n",
       "      <td>3401.550185</td>\n",
       "      <td>2453.822356</td>\n",
       "      <td>2117.992125</td>\n",
       "      <td>9157.535413</td>\n",
       "    </tr>\n",
       "  </tbody>\n",
       "</table>\n",
       "<p>5 rows × 24 columns</p>\n",
       "</div>"
      ],
      "text/plain": [
       "   Computer  Lamp  LM_Lux  ATIME Cycle  ATIME  AGAIN           CR  \\\n",
       "1    TPK_#1   D40   761.9   107.805755  299.7     16  3327.836364   \n",
       "3    TPK_#1  TL84  1362.0   107.805755  299.7     16  3159.914286   \n",
       "47    HH_#2  SP03  3464.0   107.805755  299.7      4  3022.520000   \n",
       "19    HH_#1  TL84  1372.0   107.805755  299.7      4  1035.520000   \n",
       "41    HH_#2   CWF  1176.0   107.805755  299.7     16  3933.320000   \n",
       "\n",
       "             RR           GR          BR  ...  MeterX  MeterY  MeterZ  \\\n",
       "1   2004.036364   798.981818  655.000000  ...   765.9   761.9   492.9   \n",
       "3   1664.885714   925.057143  536.171429  ...  1372.0  1362.0   762.0   \n",
       "47  1709.740000   813.680000  522.400000  ...  3456.0  3464.0  1849.0   \n",
       "19   545.040000   322.260000  194.000000  ...  1380.0  1372.0   754.0   \n",
       "41  2347.220000  1032.880000  557.200000  ...  1279.0  1176.0   420.0   \n",
       "\n",
       "    Meterlux  MeterCCT   IR           RC           GC           BC  \\\n",
       "1      761.9      4041  0.0  2904.214459  1898.148330  2489.743076   \n",
       "3     1362.0      3792  0.0  2412.723268  2197.666619  2038.059698   \n",
       "47    3464.0      3789  0.0  9910.901259  7732.267734  7942.850584   \n",
       "19    1372.0      3775  0.0  3159.449754  3062.383984  2949.680347   \n",
       "41    1176.0      2912  0.0  3401.550185  2453.822356  2117.992125   \n",
       "\n",
       "              CC  \n",
       "1    7747.851522  \n",
       "3    7356.896203  \n",
       "47  28148.062131  \n",
       "19   9643.569372  \n",
       "41   9157.535413  \n",
       "\n",
       "[5 rows x 24 columns]"
      ]
     },
     "execution_count": 52,
     "metadata": {},
     "output_type": "execute_result"
    }
   ],
   "source": [
    "dataTestnoIR"
   ]
  },
  {
   "cell_type": "code",
   "execution_count": 53,
   "metadata": {},
   "outputs": [
    {
     "data": {
      "text/plain": [
       "[799.7375670523379,\n",
       " 1019.6266309271426,\n",
       " 3423.0528449287563,\n",
       " 1326.3456303951457,\n",
       " 1191.9857800495433]"
      ]
     },
     "execution_count": 53,
     "metadata": {},
     "output_type": "execute_result"
    }
   ],
   "source": [
    "Ypredict"
   ]
  },
  {
   "cell_type": "code",
   "execution_count": 54,
   "metadata": {},
   "outputs": [
    {
     "data": {
      "text/plain": [
       "array([3917.01579235, 3635.60950233, 3687.56230221, 3594.43070821,\n",
       "       3021.72238322])"
      ]
     },
     "execution_count": 54,
     "metadata": {},
     "output_type": "execute_result"
    }
   ],
   "source": [
    "CCTpredict"
   ]
  },
  {
   "cell_type": "code",
   "execution_count": 55,
   "metadata": {},
   "outputs": [],
   "source": [
    "errorpredict =pd.DataFrame(errorpredict)\n",
    "errorpredict = errorpredict.replace([np.inf, -np.inf], np.nan)\n",
    "errorpredict = errorpredict.fillna(0)\n"
   ]
  },
  {
   "cell_type": "code",
   "execution_count": 56,
   "metadata": {},
   "outputs": [],
   "source": [
    "errorpredict = errorpredict.to_numpy()"
   ]
  },
  {
   "cell_type": "code",
   "execution_count": 57,
   "metadata": {},
   "outputs": [
    {
     "data": {
      "text/plain": [
       "(-20.0, 20.0)"
      ]
     },
     "execution_count": 57,
     "metadata": {},
     "output_type": "execute_result"
    },
    {
     "data": {
      "image/png": "[encoded data removed]",
      "text/plain": [
       "<Figure size 432x288 with 1 Axes>"
      ]
     },
     "metadata": {
      "needs_background": "light"
     },
     "output_type": "display_data"
    }
   ],
   "source": [
    "plt.plot(errorpredict*100)\n",
    "plt.title('Percent error of CCT')\n",
    "plt.xlabel(\"test samples\")\n",
    "plt.ylabel(\"Pecent error\")\n",
    "plt.ylim(-20, 20)"
   ]
  },
  {
   "cell_type": "code",
   "execution_count": 58,
   "metadata": {},
   "outputs": [
    {
     "data": {
      "text/plain": [
       "(0.9910458200828061, 0.9950548283384971, 0.9949225494306511)"
      ]
     },
     "execution_count": 58,
     "metadata": {},
     "output_type": "execute_result"
    }
   ],
   "source": [
    "scoreX, scoreY, scoreZ"
   ]
  },
  {
   "cell_type": "code",
   "execution_count": 59,
   "metadata": {},
   "outputs": [
    {
     "data": {
      "text/plain": [
       "(61.602194190310456, 39.373434138447124, 7.042372764329684)"
      ]
     },
     "execution_count": 59,
     "metadata": {},
     "output_type": "execute_result"
    }
   ],
   "source": [
    "offX, offY, offZ"
   ]
  },
  {
   "cell_type": "code",
   "execution_count": 126,
   "metadata": {},
   "outputs": [],
   "source": [
    "list = [offX, offY, offZ]"
   ]
  },
  {
   "cell_type": "code",
   "execution_count": 127,
   "metadata": {},
   "outputs": [],
   "source": [
    "list = np.array(list)"
   ]
  },
  {
   "cell_type": "code",
   "execution_count": 128,
   "metadata": {},
   "outputs": [
    {
     "data": {
      "text/plain": [
       "array([[66.47729532],\n",
       "       [40.95355984],\n",
       "       [ 5.08596128]])"
      ]
     },
     "execution_count": 128,
     "metadata": {},
     "output_type": "execute_result"
    }
   ],
   "source": [
    "list.reshape(3,1)"
   ]
  },
  {
   "cell_type": "code",
   "execution_count": 129,
   "metadata": {},
   "outputs": [
    {
     "data": {
      "text/plain": [
       "(array([ 0.00222243,  0.51877192, -0.28664117,  0.0586877 ]),\n",
       " array([-0.15384715,  0.40454969, -0.237452  ,  0.13102168]),\n",
       " array([-0.79005309, -0.35553576,  0.13997097,  0.40223911]))"
      ]
     },
     "execution_count": 129,
     "metadata": {},
     "output_type": "execute_result"
    }
   ],
   "source": [
    "coeffX, coeffY, coeffZ"
   ]
  },
  {
   "cell_type": "code",
   "execution_count": 130,
   "metadata": {},
   "outputs": [
    {
     "data": {
      "text/plain": [
       "[39.10165801939297,\n",
       " 276.0875848668759,\n",
       " 1155.5706452266984,\n",
       " 897.0984228133925,\n",
       " 1927.637004373839]"
      ]
     },
     "execution_count": 130,
     "metadata": {},
     "output_type": "execute_result"
    }
   ],
   "source": [
    "Zpredict"
   ]
  },
  {
   "cell_type": "code",
   "execution_count": 131,
   "metadata": {},
   "outputs": [
    {
     "data": {
      "text/plain": [
       "5.085961281052107"
      ]
     },
     "execution_count": 131,
     "metadata": {},
     "output_type": "execute_result"
    }
   ],
   "source": [
    "offZ"
   ]
  },
  {
   "cell_type": "code",
   "execution_count": 132,
   "metadata": {},
   "outputs": [
    {
     "data": {
      "text/plain": [
       "66.47729531891889"
      ]
     },
     "execution_count": 132,
     "metadata": {},
     "output_type": "execute_result"
    }
   ],
   "source": [
    "offX"
   ]
  },
  {
   "cell_type": "code",
   "execution_count": 134,
   "metadata": {},
   "outputs": [
    {
     "data": {
      "text/plain": [
       "40.953559839080526"
      ]
     },
     "execution_count": 134,
     "metadata": {},
     "output_type": "execute_result"
    }
   ],
   "source": [
    "offY"
   ]
  },
  {
   "cell_type": "code",
   "execution_count": 135,
   "metadata": {},
   "outputs": [
    {
     "name": "stderr",
     "output_type": "stream",
     "text": [
      "C:\\Users\\afliu\\anaconda3\\lib\\site-packages\\ipykernel_launcher.py:91: RuntimeWarning: invalid value encountered in true_divide\n",
      "C:\\Users\\afliu\\anaconda3\\lib\\site-packages\\ipykernel_launcher.py:92: RuntimeWarning: invalid value encountered in true_divide\n"
     ]
    }
   ],
   "source": [
    "CCT, error = CCTPredict(datanoIR, datanoIR['MeterX'], datanoIR['MeterY'], datanoIR['MeterZ'])"
   ]
  },
  {
   "cell_type": "code",
   "execution_count": 136,
   "metadata": {},
   "outputs": [
    {
     "data": {
      "text/plain": [
       "25    0.000732\n",
       "6    -0.001073\n",
       "3     0.000740\n",
       "19    0.001216\n",
       "44   -0.001216\n",
       "13   -0.012617\n",
       "26    0.000812\n",
       "27    0.000868\n",
       "1     0.001972\n",
       "24   -0.000563\n",
       "16         NaN\n",
       "42    0.000632\n",
       "10    0.000716\n",
       "11    0.000106\n",
       "7    -0.001071\n",
       "29   -0.013108\n",
       "17    0.001914\n",
       "34   -0.001512\n",
       "22   -0.000236\n",
       "40   -0.000668\n",
       "33    0.002034\n",
       "5     0.001571\n",
       "43    0.000375\n",
       "47    0.001205\n",
       "2    -0.001855\n",
       "37    0.001399\n",
       "30   -0.001748\n",
       "20    0.001490\n",
       "45   -0.011534\n",
       "21    0.001034\n",
       "12   -0.001995\n",
       "31    0.001216\n",
       "46   -0.001829\n",
       "9    -0.000404\n",
       "36    0.001562\n",
       "0          NaN\n",
       "18   -0.001933\n",
       "38   -0.000845\n",
       "4     0.001894\n",
       "41    0.000541\n",
       "35    0.002165\n",
       "39   -0.000460\n",
       "8    -0.001024\n",
       "Name: MeterCCT, dtype: float64"
      ]
     },
     "execution_count": 136,
     "metadata": {},
     "output_type": "execute_result"
    }
   ],
   "source": [
    "error"
   ]
  },
  {
   "cell_type": "code",
   "execution_count": 137,
   "metadata": {},
   "outputs": [
    {
     "data": {
      "text/plain": [
       "[24.47292542974922,\n",
       " 846.5714148315197,\n",
       " 1277.2541218888157,\n",
       " 2525.666277890724,\n",
       " 3348.5782429752053]"
      ]
     },
     "execution_count": 137,
     "metadata": {},
     "output_type": "execute_result"
    }
   ],
   "source": [
    "Ypredict"
   ]
  },
  {
   "cell_type": "code",
   "execution_count": 138,
   "metadata": {},
   "outputs": [
    {
     "data": {
      "text/plain": [
       "[39.10165801939297,\n",
       " 276.0875848668759,\n",
       " 1155.5706452266984,\n",
       " 897.0984228133925,\n",
       " 1927.637004373839]"
      ]
     },
     "execution_count": 138,
     "metadata": {},
     "output_type": "execute_result"
    }
   ],
   "source": [
    "Zpredict"
   ]
  },
  {
   "cell_type": "code",
   "execution_count": 139,
   "metadata": {},
   "outputs": [
    {
     "data": {
      "text/html": [
       "<div>\n",
       "<style scoped>\n",
       "    .dataframe tbody tr th:only-of-type {\n",
       "        vertical-align: middle;\n",
       "    }\n",
       "\n",
       "    .dataframe tbody tr th {\n",
       "        vertical-align: top;\n",
       "    }\n",
       "\n",
       "    .dataframe thead th {\n",
       "        text-align: right;\n",
       "    }\n",
       "</style>\n",
       "<table border=\"1\" class=\"dataframe\">\n",
       "  <thead>\n",
       "    <tr style=\"text-align: right;\">\n",
       "      <th></th>\n",
       "      <th>MeterX</th>\n",
       "    </tr>\n",
       "  </thead>\n",
       "  <tbody>\n",
       "    <tr>\n",
       "      <th>32</th>\n",
       "      <td>0.000000</td>\n",
       "    </tr>\n",
       "    <tr>\n",
       "      <th>23</th>\n",
       "      <td>0.018074</td>\n",
       "    </tr>\n",
       "    <tr>\n",
       "      <th>14</th>\n",
       "      <td>-0.018271</td>\n",
       "    </tr>\n",
       "    <tr>\n",
       "      <th>28</th>\n",
       "      <td>0.018169</td>\n",
       "    </tr>\n",
       "    <tr>\n",
       "      <th>15</th>\n",
       "      <td>-0.006494</td>\n",
       "    </tr>\n",
       "  </tbody>\n",
       "</table>\n",
       "</div>"
      ],
      "text/plain": [
       "      MeterX\n",
       "32  0.000000\n",
       "23  0.018074\n",
       "14 -0.018271\n",
       "28  0.018169\n",
       "15 -0.006494"
      ]
     },
     "execution_count": 139,
     "metadata": {},
     "output_type": "execute_result"
    }
   ],
   "source": [
    "errorX = pd.DataFrame(errorX)\n",
    "errorX"
   ]
  },
  {
   "cell_type": "code",
   "execution_count": 140,
   "metadata": {},
   "outputs": [
    {
     "data": {
      "text/html": [
       "<div>\n",
       "<style scoped>\n",
       "    .dataframe tbody tr th:only-of-type {\n",
       "        vertical-align: middle;\n",
       "    }\n",
       "\n",
       "    .dataframe tbody tr th {\n",
       "        vertical-align: top;\n",
       "    }\n",
       "\n",
       "    .dataframe thead th {\n",
       "        text-align: right;\n",
       "    }\n",
       "</style>\n",
       "<table border=\"1\" class=\"dataframe\">\n",
       "  <thead>\n",
       "    <tr style=\"text-align: right;\">\n",
       "      <th></th>\n",
       "      <th>MeterY</th>\n",
       "    </tr>\n",
       "  </thead>\n",
       "  <tbody>\n",
       "    <tr>\n",
       "      <th>32</th>\n",
       "      <td>0.000000</td>\n",
       "    </tr>\n",
       "    <tr>\n",
       "      <th>23</th>\n",
       "      <td>-0.001856</td>\n",
       "    </tr>\n",
       "    <tr>\n",
       "      <th>14</th>\n",
       "      <td>-0.017423</td>\n",
       "    </tr>\n",
       "    <tr>\n",
       "      <th>28</th>\n",
       "      <td>0.005675</td>\n",
       "    </tr>\n",
       "    <tr>\n",
       "      <th>15</th>\n",
       "      <td>-0.005548</td>\n",
       "    </tr>\n",
       "  </tbody>\n",
       "</table>\n",
       "</div>"
      ],
      "text/plain": [
       "      MeterY\n",
       "32  0.000000\n",
       "23 -0.001856\n",
       "14 -0.017423\n",
       "28  0.005675\n",
       "15 -0.005548"
      ]
     },
     "execution_count": 140,
     "metadata": {},
     "output_type": "execute_result"
    }
   ],
   "source": [
    "errorY = pd.DataFrame(errorY)\n",
    "errorY"
   ]
  },
  {
   "cell_type": "code",
   "execution_count": 141,
   "metadata": {},
   "outputs": [
    {
     "data": {
      "text/plain": [
       "(-12.0, 12.0)"
      ]
     },
     "execution_count": 141,
     "metadata": {},
     "output_type": "execute_result"
    },
    {
     "data": {
      "image/png": "[encoded data removed]",
      "text/plain": [
       "<Figure size 432x288 with 1 Axes>"
      ]
     },
     "metadata": {
      "needs_background": "light"
     },
     "output_type": "display_data"
    }
   ],
   "source": [
    "errorX = pd.DataFrame(errorX)\n",
    "errorX = errorX.to_numpy()\n",
    "plt.plot(errorX*100)\n",
    "plt.title('Percent error of X')\n",
    "plt.xlabel(\"test samples\")\n",
    "plt.ylabel(\"Pecent error\")\n",
    "plt.ylim(-12, 12)"
   ]
  },
  {
   "cell_type": "code",
   "execution_count": 142,
   "metadata": {},
   "outputs": [
    {
     "data": {
      "text/plain": [
       "(-20.0, 20.0)"
      ]
     },
     "execution_count": 142,
     "metadata": {},
     "output_type": "execute_result"
    },
    {
     "data": {
      "image/png": "[encoded data removed]",
      "text/plain": [
       "<Figure size 432x288 with 1 Axes>"
      ]
     },
     "metadata": {
      "needs_background": "light"
     },
     "output_type": "display_data"
    }
   ],
   "source": [
    "errorY = pd.DataFrame(errorY)\n",
    "errorY = errorY.to_numpy()\n",
    "plt.plot(errorY*100)\n",
    "plt.title('Percent error of Y')\n",
    "plt.xlabel(\"test samples\")\n",
    "plt.ylabel(\"Pecent error\")\n",
    "plt.ylim(-20, 20)"
   ]
  },
  {
   "cell_type": "code",
   "execution_count": 98,
   "metadata": {},
   "outputs": [
    {
     "data": {
      "text/plain": [
       "(-12.0, 12.0)"
      ]
     },
     "execution_count": 98,
     "metadata": {},
     "output_type": "execute_result"
    },
    {
     "data": {
      "image/png": "[encoded data removed]",
      "text/plain": [
       "<Figure size 432x288 with 1 Axes>"
      ]
     },
     "metadata": {
      "needs_background": "light"
     },
     "output_type": "display_data"
    }
   ],
   "source": [
    "errorZ = pd.DataFrame(errorZ)\n",
    "errorZ = errorZ.to_numpy()\n",
    "\n",
    "plt.plot(errorZ*100)\n",
    "plt.title('Percent error of Z')\n",
    "plt.xlabel(\"test samples\")\n",
    "plt.ylabel(\"Pecent error\")\n",
    "plt.ylim(-12, 12)\n"
   ]
  },
  {
   "cell_type": "code",
   "execution_count": 99,
   "metadata": {},
   "outputs": [],
   "source": [
    "dataVal = pd.read_excel('testdata_DVT_Kohaku.xlsx')\n",
    "dataValnoIR = irRemoval(dataVal)\n",
    "XValpredict,MSEXVal,VarXVal = predict(regX,dataValnoIR, 'MeterX')\n",
    "\n",
    "YValpredict,MSEY,VarYVal = predict(regY,dataValnoIR, 'MeterY')\n",
    "\n",
    "ZValpredict,MSEZ,VarZVal = predict(regZ,dataValnoIR, 'MeterZ')  \n",
    "CCTValpredict, errorValpredict = CCTPredict(dataValnoIR, XValpredict, \n",
    "                                          YValpredict, ZValpredict)\n",
    "    "
   ]
  },
  {
   "cell_type": "code",
   "execution_count": 101,
   "metadata": {},
   "outputs": [
    {
     "data": {
      "text/html": [
       "<div>\n",
       "<style scoped>\n",
       "    .dataframe tbody tr th:only-of-type {\n",
       "        vertical-align: middle;\n",
       "    }\n",
       "\n",
       "    .dataframe tbody tr th {\n",
       "        vertical-align: top;\n",
       "    }\n",
       "\n",
       "    .dataframe thead th {\n",
       "        text-align: right;\n",
       "    }\n",
       "</style>\n",
       "<table border=\"1\" class=\"dataframe\">\n",
       "  <thead>\n",
       "    <tr style=\"text-align: right;\">\n",
       "      <th></th>\n",
       "      <th>light source</th>\n",
       "      <th>R</th>\n",
       "      <th>G</th>\n",
       "      <th>B</th>\n",
       "      <th>C</th>\n",
       "      <th>MeterX</th>\n",
       "      <th>MeterY</th>\n",
       "      <th>MeterZ</th>\n",
       "      <th>Meterlux</th>\n",
       "      <th>MeterCCT</th>\n",
       "      <th>IR</th>\n",
       "      <th>RC</th>\n",
       "      <th>GC</th>\n",
       "      <th>BC</th>\n",
       "      <th>CC</th>\n",
       "    </tr>\n",
       "  </thead>\n",
       "  <tbody>\n",
       "    <tr>\n",
       "      <th>0</th>\n",
       "      <td>LIFX7000</td>\n",
       "      <td>1941</td>\n",
       "      <td>1357</td>\n",
       "      <td>1232</td>\n",
       "      <td>4139</td>\n",
       "      <td>1102</td>\n",
       "      <td>1079</td>\n",
       "      <td>1597</td>\n",
       "      <td>1079</td>\n",
       "      <td>8922</td>\n",
       "      <td>93.47795</td>\n",
       "      <td>1090.53205</td>\n",
       "      <td>1263.52205</td>\n",
       "      <td>1877.72205</td>\n",
       "      <td>3962.74205</td>\n",
       "    </tr>\n",
       "    <tr>\n",
       "      <th>1</th>\n",
       "      <td>LIFX6500</td>\n",
       "      <td>2128</td>\n",
       "      <td>1444</td>\n",
       "      <td>1281</td>\n",
       "      <td>4434</td>\n",
       "      <td>1180</td>\n",
       "      <td>1158</td>\n",
       "      <td>1595</td>\n",
       "      <td>1159</td>\n",
       "      <td>7836</td>\n",
       "      <td>91.50380</td>\n",
       "      <td>1206.57620</td>\n",
       "      <td>1352.49620</td>\n",
       "      <td>1958.09620</td>\n",
       "      <td>4253.81620</td>\n",
       "    </tr>\n",
       "    <tr>\n",
       "      <th>2</th>\n",
       "      <td>LIFX6000</td>\n",
       "      <td>2154</td>\n",
       "      <td>1412</td>\n",
       "      <td>1222</td>\n",
       "      <td>4373</td>\n",
       "      <td>1163</td>\n",
       "      <td>1143</td>\n",
       "      <td>1442</td>\n",
       "      <td>1143</td>\n",
       "      <td>6867</td>\n",
       "      <td>81.09800</td>\n",
       "      <td>1232.84200</td>\n",
       "      <td>1330.90200</td>\n",
       "      <td>1874.10200</td>\n",
       "      <td>4204.44200</td>\n",
       "    </tr>\n",
       "    <tr>\n",
       "      <th>3</th>\n",
       "      <td>LIFX5500</td>\n",
       "      <td>2143</td>\n",
       "      <td>1349</td>\n",
       "      <td>1133</td>\n",
       "      <td>4221</td>\n",
       "      <td>1123</td>\n",
       "      <td>1104</td>\n",
       "      <td>1252</td>\n",
       "      <td>1104</td>\n",
       "      <td>5993</td>\n",
       "      <td>68.15225</td>\n",
       "      <td>1239.07775</td>\n",
       "      <td>1280.84775</td>\n",
       "      <td>1744.64775</td>\n",
       "      <td>4068.42775</td>\n",
       "    </tr>\n",
       "    <tr>\n",
       "      <th>4</th>\n",
       "      <td>LIFX4500</td>\n",
       "      <td>2137</td>\n",
       "      <td>1205</td>\n",
       "      <td>942</td>\n",
       "      <td>3902</td>\n",
       "      <td>1042</td>\n",
       "      <td>1016</td>\n",
       "      <td>845</td>\n",
       "      <td>1017</td>\n",
       "      <td>4476</td>\n",
       "      <td>39.32105</td>\n",
       "      <td>1264.24895</td>\n",
       "      <td>1165.67895</td>\n",
       "      <td>1467.87895</td>\n",
       "      <td>3784.63895</td>\n",
       "    </tr>\n",
       "    <tr>\n",
       "      <th>5</th>\n",
       "      <td>LIFX3500</td>\n",
       "      <td>2085</td>\n",
       "      <td>1008</td>\n",
       "      <td>716</td>\n",
       "      <td>3465</td>\n",
       "      <td>944</td>\n",
       "      <td>892</td>\n",
       "      <td>420</td>\n",
       "      <td>892</td>\n",
       "      <td>3261</td>\n",
       "      <td>6.09875</td>\n",
       "      <td>1265.75125</td>\n",
       "      <td>1001.90125</td>\n",
       "      <td>1139.50125</td>\n",
       "      <td>3389.60125</td>\n",
       "    </tr>\n",
       "    <tr>\n",
       "      <th>6</th>\n",
       "      <td>LIFX8000</td>\n",
       "      <td>1664</td>\n",
       "      <td>1221</td>\n",
       "      <td>1150</td>\n",
       "      <td>3692</td>\n",
       "      <td>1066</td>\n",
       "      <td>1040</td>\n",
       "      <td>1692</td>\n",
       "      <td>1040</td>\n",
       "      <td>11010</td>\n",
       "      <td>93.86540</td>\n",
       "      <td>921.17460</td>\n",
       "      <td>1127.13460</td>\n",
       "      <td>1746.13460</td>\n",
       "      <td>3524.29460</td>\n",
       "    </tr>\n",
       "  </tbody>\n",
       "</table>\n",
       "</div>"
      ],
      "text/plain": [
       "  light source     R     G     B     C  MeterX  MeterY  MeterZ  Meterlux  \\\n",
       "0     LIFX7000  1941  1357  1232  4139    1102    1079    1597      1079   \n",
       "1     LIFX6500  2128  1444  1281  4434    1180    1158    1595      1159   \n",
       "2     LIFX6000  2154  1412  1222  4373    1163    1143    1442      1143   \n",
       "3     LIFX5500  2143  1349  1133  4221    1123    1104    1252      1104   \n",
       "4     LIFX4500  2137  1205   942  3902    1042    1016     845      1017   \n",
       "5     LIFX3500  2085  1008   716  3465     944     892     420       892   \n",
       "6     LIFX8000  1664  1221  1150  3692    1066    1040    1692      1040   \n",
       "\n",
       "   MeterCCT        IR          RC          GC          BC          CC  \n",
       "0      8922  93.47795  1090.53205  1263.52205  1877.72205  3962.74205  \n",
       "1      7836  91.50380  1206.57620  1352.49620  1958.09620  4253.81620  \n",
       "2      6867  81.09800  1232.84200  1330.90200  1874.10200  4204.44200  \n",
       "3      5993  68.15225  1239.07775  1280.84775  1744.64775  4068.42775  \n",
       "4      4476  39.32105  1264.24895  1165.67895  1467.87895  3784.63895  \n",
       "5      3261   6.09875  1265.75125  1001.90125  1139.50125  3389.60125  \n",
       "6     11010  93.86540   921.17460  1127.13460  1746.13460  3524.29460  "
      ]
     },
     "execution_count": 101,
     "metadata": {},
     "output_type": "execute_result"
    }
   ],
   "source": [
    "dataVal"
   ]
  },
  {
   "cell_type": "code",
   "execution_count": 55,
   "metadata": {},
   "outputs": [
    {
     "data": {
      "text/plain": [
       "array([ 9167.37125486,  7769.68954376,  6683.90745517,  5761.58285646,\n",
       "        4386.53215214,  3437.2390767 , 13004.90637317])"
      ]
     },
     "execution_count": 55,
     "metadata": {},
     "output_type": "execute_result"
    }
   ],
   "source": [
    "CCTValpredict"
   ]
  },
  {
   "cell_type": "code",
   "execution_count": 45,
   "metadata": {},
   "outputs": [
    {
     "data": {
      "text/plain": [
       "[814.0027257328575,\n",
       " 905.4478648949089,\n",
       " 924.9888212853549,\n",
       " 927.9616168498602,\n",
       " 916.2427931613881,\n",
       " 854.0093259283244]"
      ]
     },
     "execution_count": 45,
     "metadata": {},
     "output_type": "execute_result"
    }
   ],
   "source": [
    "YValpredict"
   ]
  },
  {
   "cell_type": "code",
   "execution_count": 46,
   "metadata": {},
   "outputs": [],
   "source": [
    "dataVal['LuxError']=(YValpredict - dataVal['Meterlux'])/dataVal['Meterlux']*100\n",
    "dataVal['CCTError']=(CCTValpredict - dataVal['MeterCCT'])/dataVal['MeterCCT']*100"
   ]
  },
  {
   "cell_type": "code",
   "execution_count": 52,
   "metadata": {},
   "outputs": [
    {
     "data": {
      "text/plain": [
       "<function matplotlib.pyplot.show(*args, **kw)>"
      ]
     },
     "execution_count": 52,
     "metadata": {},
     "output_type": "execute_result"
    },
    {
     "data": {
      "image/png": "[encoded data removed]",
      "text/plain": [
       "<Figure size 432x288 with 1 Axes>"
      ]
     },
     "metadata": {
      "needs_background": "light"
     },
     "output_type": "display_data"
    }
   ],
   "source": [
    "dataVal.plot(y = 'CCTError',x = 'MeterCCT')\n",
    "plt.ylabel('CCT error percentage')\n",
    "plt.show"
   ]
  },
  {
   "cell_type": "code",
   "execution_count": 102,
   "metadata": {},
   "outputs": [
    {
     "ename": "ValueError",
     "evalue": "Unrecognized character L in format string",
     "output_type": "error",
     "traceback": [
      "\u001b[1;31m---------------------------------------------------------------------------\u001b[0m",
      "\u001b[1;31mValueError\u001b[0m                                Traceback (most recent call last)",
      "\u001b[1;32m<ipython-input-102-f1b8b5c9ba2a>\u001b[0m in \u001b[0;36m<module>\u001b[1;34m\u001b[0m\n\u001b[1;32m----> 1\u001b[1;33m \u001b[0mplt\u001b[0m\u001b[1;33m.\u001b[0m\u001b[0mplot\u001b[0m\u001b[1;33m(\u001b[0m \u001b[1;34m'percentage'\u001b[0m\u001b[1;33m,\u001b[0m \u001b[1;34m'LuxError'\u001b[0m\u001b[1;33m,\u001b[0m \u001b[0mdata\u001b[0m\u001b[1;33m=\u001b[0m\u001b[0mdataVal\u001b[0m\u001b[1;33m,\u001b[0m \u001b[0mmarker\u001b[0m\u001b[1;33m=\u001b[0m\u001b[1;34m''\u001b[0m\u001b[1;33m,\u001b[0m \u001b[0mmarkerfacecolor\u001b[0m\u001b[1;33m=\u001b[0m\u001b[1;34m'blue'\u001b[0m\u001b[1;33m,\u001b[0m \u001b[0mmarkersize\u001b[0m\u001b[1;33m=\u001b[0m\u001b[1;36m12\u001b[0m\u001b[1;33m,\u001b[0m \u001b[0mcolor\u001b[0m\u001b[1;33m=\u001b[0m\u001b[1;34m'skyblue'\u001b[0m\u001b[1;33m,\u001b[0m \u001b[0mlinewidth\u001b[0m\u001b[1;33m=\u001b[0m\u001b[1;36m4\u001b[0m\u001b[1;33m)\u001b[0m\u001b[1;33m\u001b[0m\u001b[1;33m\u001b[0m\u001b[0m\n\u001b[0m\u001b[0;32m      2\u001b[0m \u001b[0mplt\u001b[0m\u001b[1;33m.\u001b[0m\u001b[0mplot\u001b[0m\u001b[1;33m(\u001b[0m \u001b[1;34m'percentage'\u001b[0m\u001b[1;33m,\u001b[0m \u001b[1;34m'CCTError'\u001b[0m\u001b[1;33m,\u001b[0m \u001b[0mdata\u001b[0m\u001b[1;33m=\u001b[0m\u001b[0mdataVal\u001b[0m\u001b[1;33m,\u001b[0m \u001b[0mmarker\u001b[0m\u001b[1;33m=\u001b[0m\u001b[1;34m''\u001b[0m\u001b[1;33m,\u001b[0m \u001b[0mcolor\u001b[0m\u001b[1;33m=\u001b[0m\u001b[1;34m'olive'\u001b[0m\u001b[1;33m,\u001b[0m \u001b[0mlinewidth\u001b[0m\u001b[1;33m=\u001b[0m\u001b[1;36m2\u001b[0m\u001b[1;33m)\u001b[0m\u001b[1;33m\u001b[0m\u001b[1;33m\u001b[0m\u001b[0m\n\u001b[0;32m      3\u001b[0m \u001b[0mplt\u001b[0m\u001b[1;33m.\u001b[0m\u001b[0mxlabel\u001b[0m\u001b[1;33m(\u001b[0m\u001b[1;34m'Ink transmittance variation in percentage'\u001b[0m\u001b[1;33m)\u001b[0m\u001b[1;33m\u001b[0m\u001b[1;33m\u001b[0m\u001b[0m\n\u001b[0;32m      4\u001b[0m \u001b[0mplt\u001b[0m\u001b[1;33m.\u001b[0m\u001b[0mylabel\u001b[0m\u001b[1;33m(\u001b[0m\u001b[1;34m'Lux and CCT error percentage'\u001b[0m\u001b[1;33m)\u001b[0m\u001b[1;33m\u001b[0m\u001b[1;33m\u001b[0m\u001b[0m\n\u001b[0;32m      5\u001b[0m \u001b[0mplt\u001b[0m\u001b[1;33m.\u001b[0m\u001b[0mlegend\u001b[0m\u001b[1;33m(\u001b[0m\u001b[1;33m)\u001b[0m\u001b[1;33m\u001b[0m\u001b[1;33m\u001b[0m\u001b[0m\n",
      "\u001b[1;32m~\\anaconda3\\lib\\site-packages\\matplotlib\\pyplot.py\u001b[0m in \u001b[0;36mplot\u001b[1;34m(scalex, scaley, data, *args, **kwargs)\u001b[0m\n\u001b[0;32m   2761\u001b[0m     return gca().plot(\n\u001b[0;32m   2762\u001b[0m         *args, scalex=scalex, scaley=scaley, **({\"data\": data} if data\n\u001b[1;32m-> 2763\u001b[1;33m         is not None else {}), **kwargs)\n\u001b[0m\u001b[0;32m   2764\u001b[0m \u001b[1;33m\u001b[0m\u001b[0m\n\u001b[0;32m   2765\u001b[0m \u001b[1;33m\u001b[0m\u001b[0m\n",
      "\u001b[1;32m~\\anaconda3\\lib\\site-packages\\matplotlib\\axes\\_axes.py\u001b[0m in \u001b[0;36mplot\u001b[1;34m(self, scalex, scaley, data, *args, **kwargs)\u001b[0m\n\u001b[0;32m   1645\u001b[0m         \"\"\"\n\u001b[0;32m   1646\u001b[0m         \u001b[0mkwargs\u001b[0m \u001b[1;33m=\u001b[0m \u001b[0mcbook\u001b[0m\u001b[1;33m.\u001b[0m\u001b[0mnormalize_kwargs\u001b[0m\u001b[1;33m(\u001b[0m\u001b[0mkwargs\u001b[0m\u001b[1;33m,\u001b[0m \u001b[0mmlines\u001b[0m\u001b[1;33m.\u001b[0m\u001b[0mLine2D\u001b[0m\u001b[1;33m)\u001b[0m\u001b[1;33m\u001b[0m\u001b[1;33m\u001b[0m\u001b[0m\n\u001b[1;32m-> 1647\u001b[1;33m         \u001b[0mlines\u001b[0m \u001b[1;33m=\u001b[0m \u001b[1;33m[\u001b[0m\u001b[1;33m*\u001b[0m\u001b[0mself\u001b[0m\u001b[1;33m.\u001b[0m\u001b[0m_get_lines\u001b[0m\u001b[1;33m(\u001b[0m\u001b[1;33m*\u001b[0m\u001b[0margs\u001b[0m\u001b[1;33m,\u001b[0m \u001b[0mdata\u001b[0m\u001b[1;33m=\u001b[0m\u001b[0mdata\u001b[0m\u001b[1;33m,\u001b[0m \u001b[1;33m**\u001b[0m\u001b[0mkwargs\u001b[0m\u001b[1;33m)\u001b[0m\u001b[1;33m]\u001b[0m\u001b[1;33m\u001b[0m\u001b[1;33m\u001b[0m\u001b[0m\n\u001b[0m\u001b[0;32m   1648\u001b[0m         \u001b[1;32mfor\u001b[0m \u001b[0mline\u001b[0m \u001b[1;32min\u001b[0m \u001b[0mlines\u001b[0m\u001b[1;33m:\u001b[0m\u001b[1;33m\u001b[0m\u001b[1;33m\u001b[0m\u001b[0m\n\u001b[0;32m   1649\u001b[0m             \u001b[0mself\u001b[0m\u001b[1;33m.\u001b[0m\u001b[0madd_line\u001b[0m\u001b[1;33m(\u001b[0m\u001b[0mline\u001b[0m\u001b[1;33m)\u001b[0m\u001b[1;33m\u001b[0m\u001b[1;33m\u001b[0m\u001b[0m\n",
      "\u001b[1;32m~\\anaconda3\\lib\\site-packages\\matplotlib\\axes\\_base.py\u001b[0m in \u001b[0;36m__call__\u001b[1;34m(self, *args, **kwargs)\u001b[0m\n\u001b[0;32m    214\u001b[0m                 \u001b[0mthis\u001b[0m \u001b[1;33m+=\u001b[0m \u001b[0margs\u001b[0m\u001b[1;33m[\u001b[0m\u001b[1;36m0\u001b[0m\u001b[1;33m]\u001b[0m\u001b[1;33m,\u001b[0m\u001b[1;33m\u001b[0m\u001b[1;33m\u001b[0m\u001b[0m\n\u001b[0;32m    215\u001b[0m                 \u001b[0margs\u001b[0m \u001b[1;33m=\u001b[0m \u001b[0margs\u001b[0m\u001b[1;33m[\u001b[0m\u001b[1;36m1\u001b[0m\u001b[1;33m:\u001b[0m\u001b[1;33m]\u001b[0m\u001b[1;33m\u001b[0m\u001b[1;33m\u001b[0m\u001b[0m\n\u001b[1;32m--> 216\u001b[1;33m             \u001b[1;32myield\u001b[0m \u001b[1;32mfrom\u001b[0m \u001b[0mself\u001b[0m\u001b[1;33m.\u001b[0m\u001b[0m_plot_args\u001b[0m\u001b[1;33m(\u001b[0m\u001b[0mthis\u001b[0m\u001b[1;33m,\u001b[0m \u001b[0mkwargs\u001b[0m\u001b[1;33m)\u001b[0m\u001b[1;33m\u001b[0m\u001b[1;33m\u001b[0m\u001b[0m\n\u001b[0m\u001b[0;32m    217\u001b[0m \u001b[1;33m\u001b[0m\u001b[0m\n\u001b[0;32m    218\u001b[0m     \u001b[1;32mdef\u001b[0m \u001b[0mget_next_color\u001b[0m\u001b[1;33m(\u001b[0m\u001b[0mself\u001b[0m\u001b[1;33m)\u001b[0m\u001b[1;33m:\u001b[0m\u001b[1;33m\u001b[0m\u001b[1;33m\u001b[0m\u001b[0m\n",
      "\u001b[1;32m~\\anaconda3\\lib\\site-packages\\matplotlib\\axes\\_base.py\u001b[0m in \u001b[0;36m_plot_args\u001b[1;34m(self, tup, kwargs)\u001b[0m\n\u001b[0;32m    310\u001b[0m     \u001b[1;32mdef\u001b[0m \u001b[0m_plot_args\u001b[0m\u001b[1;33m(\u001b[0m\u001b[0mself\u001b[0m\u001b[1;33m,\u001b[0m \u001b[0mtup\u001b[0m\u001b[1;33m,\u001b[0m \u001b[0mkwargs\u001b[0m\u001b[1;33m)\u001b[0m\u001b[1;33m:\u001b[0m\u001b[1;33m\u001b[0m\u001b[1;33m\u001b[0m\u001b[0m\n\u001b[0;32m    311\u001b[0m         \u001b[1;32mif\u001b[0m \u001b[0mlen\u001b[0m\u001b[1;33m(\u001b[0m\u001b[0mtup\u001b[0m\u001b[1;33m)\u001b[0m \u001b[1;33m>\u001b[0m \u001b[1;36m1\u001b[0m \u001b[1;32mand\u001b[0m \u001b[0misinstance\u001b[0m\u001b[1;33m(\u001b[0m\u001b[0mtup\u001b[0m\u001b[1;33m[\u001b[0m\u001b[1;33m-\u001b[0m\u001b[1;36m1\u001b[0m\u001b[1;33m]\u001b[0m\u001b[1;33m,\u001b[0m \u001b[0mstr\u001b[0m\u001b[1;33m)\u001b[0m\u001b[1;33m:\u001b[0m\u001b[1;33m\u001b[0m\u001b[1;33m\u001b[0m\u001b[0m\n\u001b[1;32m--> 312\u001b[1;33m             \u001b[0mlinestyle\u001b[0m\u001b[1;33m,\u001b[0m \u001b[0mmarker\u001b[0m\u001b[1;33m,\u001b[0m \u001b[0mcolor\u001b[0m \u001b[1;33m=\u001b[0m \u001b[0m_process_plot_format\u001b[0m\u001b[1;33m(\u001b[0m\u001b[0mtup\u001b[0m\u001b[1;33m[\u001b[0m\u001b[1;33m-\u001b[0m\u001b[1;36m1\u001b[0m\u001b[1;33m]\u001b[0m\u001b[1;33m)\u001b[0m\u001b[1;33m\u001b[0m\u001b[1;33m\u001b[0m\u001b[0m\n\u001b[0m\u001b[0;32m    313\u001b[0m             \u001b[0mtup\u001b[0m \u001b[1;33m=\u001b[0m \u001b[0mtup\u001b[0m\u001b[1;33m[\u001b[0m\u001b[1;33m:\u001b[0m\u001b[1;33m-\u001b[0m\u001b[1;36m1\u001b[0m\u001b[1;33m]\u001b[0m\u001b[1;33m\u001b[0m\u001b[1;33m\u001b[0m\u001b[0m\n\u001b[0;32m    314\u001b[0m         \u001b[1;32melif\u001b[0m \u001b[0mlen\u001b[0m\u001b[1;33m(\u001b[0m\u001b[0mtup\u001b[0m\u001b[1;33m)\u001b[0m \u001b[1;33m==\u001b[0m \u001b[1;36m3\u001b[0m\u001b[1;33m:\u001b[0m\u001b[1;33m\u001b[0m\u001b[1;33m\u001b[0m\u001b[0m\n",
      "\u001b[1;32m~\\anaconda3\\lib\\site-packages\\matplotlib\\axes\\_base.py\u001b[0m in \u001b[0;36m_process_plot_format\u001b[1;34m(fmt)\u001b[0m\n\u001b[0;32m    103\u001b[0m         \u001b[1;32melse\u001b[0m\u001b[1;33m:\u001b[0m\u001b[1;33m\u001b[0m\u001b[1;33m\u001b[0m\u001b[0m\n\u001b[0;32m    104\u001b[0m             raise ValueError(\n\u001b[1;32m--> 105\u001b[1;33m                 'Unrecognized character %c in format string' % c)\n\u001b[0m\u001b[0;32m    106\u001b[0m \u001b[1;33m\u001b[0m\u001b[0m\n\u001b[0;32m    107\u001b[0m     \u001b[1;32mif\u001b[0m \u001b[0mlinestyle\u001b[0m \u001b[1;32mis\u001b[0m \u001b[1;32mNone\u001b[0m \u001b[1;32mand\u001b[0m \u001b[0mmarker\u001b[0m \u001b[1;32mis\u001b[0m \u001b[1;32mNone\u001b[0m\u001b[1;33m:\u001b[0m\u001b[1;33m\u001b[0m\u001b[1;33m\u001b[0m\u001b[0m\n",
      "\u001b[1;31mValueError\u001b[0m: Unrecognized character L in format string"
     ]
    },
    {
     "data": {
      "image/png": "[encoded data removed]",
      "text/plain": [
       "<Figure size 432x288 with 1 Axes>"
      ]
     },
     "metadata": {
      "needs_background": "light"
     },
     "output_type": "display_data"
    }
   ],
   "source": [
    "plt.plot( 'percentage', 'LuxError', data=dataVal, marker='', markerfacecolor='blue', markersize=12, color='skyblue', linewidth=4)\n",
    "plt.plot( 'percentage', 'CCTError', data=dataVal, marker='', color='olive', linewidth=2)\n",
    "plt.xlabel('Ink transmittance variation in percentage')\n",
    "plt.ylabel('Lux and CCT error percentage')\n",
    "plt.legend()\n",
    "plt.show()"
   ]
  }
 ],
 "metadata": {
  "kernelspec": {
   "display_name": "Python 3",
   "language": "python",
   "name": "python3"
  },
  "language_info": {
   "codemirror_mode": {
    "name": "ipython",
    "version": 3
   },
   "file_extension": ".py",
   "mimetype": "text/x-python",
   "name": "python",
   "nbconvert_exporter": "python",
   "pygments_lexer": "ipython3",
   "version": "3.7.7"
  }
 },
 "nbformat": 4,
 "nbformat_minor": 2
}
